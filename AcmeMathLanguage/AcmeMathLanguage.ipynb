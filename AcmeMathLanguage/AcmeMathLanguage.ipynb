{
 "cells": [
  {
   "cell_type": "code",
   "execution_count": null,
   "metadata": {
    "dotnet_interactive": {
     "language": "pwsh"
    }
   },
   "outputs": [
    {
     "name": "stdout",
     "output_type": "stream",
     "text": [
      "Microsoft (R) Build Engine version 17.0.0+c9eb9dd64 for .NET\r\n",
      "Copyright (C) Microsoft Corporation. All rights reserved.\r\n",
      "\r\n",
      "  Determining projects to restore...\r\n",
      "  Restored E:\\repos\\AcmeMath\\AcmeMathLanguage\\AcmeMathLanguage.csproj (in 179 ms).\r\n",
      "  AcmeMathLanguage -> E:\\repos\\AcmeMath\\AcmeMathLanguage\\bin\\Debug\\netstandard2.1\\AcmeMathLanguage.dll\r\n",
      "\r\n",
      "Build succeeded.\r\n",
      "    0 Warning(s)\r\n",
      "    0 Error(s)\r\n",
      "\r\n",
      "Time Elapsed 00:00:01.17\r\n",
      "Microsoft (R) Build Engine version 17.0.0+c9eb9dd64 for .NET\r\n",
      "Copyright (C) Microsoft Corporation. All rights reserved.\r\n",
      "\r\n",
      "  Determining projects to restore...\r\n",
      "  Restored E:\\repos\\AcmeMath\\AcmeMathLanguage\\AcmeMathLanguage.csproj (in 142 ms).\r\n",
      "  AcmeMathLanguage -> E:\\repos\\AcmeMath\\AcmeMathLanguage\\bin\\Debug\\netstandard2.1\\AcmeMathLanguage.dll\r\n",
      "  Successfully created package 'E:\\repos\\AcmeMath\\AcmeMathLanguage\\bin\\Debug\\AcmeMathLanguage.1.0.6.nupkg'.\r\n"
     ]
    }
   ],
   "source": [
    "#!pwsh\n",
    "# 1. Build the project\n",
    "dotnet build\n",
    "\n",
    "# Pack up the NuGet package. Note, you should increment the version because the previous one, once installed, will be in your NuGet cache\n",
    "dotnet pack /p:PackageVersion=1.0.6\n",
    "\n",
    "# 3. Check that the package is there\n",
    "Copy-Item -Destination E:\\repos\\AcmeMath\\AcmeMath.InteractiveExtension\\bin\\Debug\\ E:\\repos\\AcmeMath\\AcmeMathLanguage\\bin\\Debug\\*.nupkg "
   ]
  }
 ],
 "metadata": {
  "kernelspec": {
   "display_name": ".NET (C#)",
   "language": "C#",
   "name": ".net-csharp"
  },
  "language_info": {
   "name": "C#"
  }
 },
 "nbformat": 4,
 "nbformat_minor": 2
}
